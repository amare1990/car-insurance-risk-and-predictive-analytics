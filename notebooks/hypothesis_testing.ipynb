{
 "cells": [
  {
   "cell_type": "code",
   "execution_count": 1,
   "id": "08ec0f05-02b4-4ca8-a02c-d27034ade4cd",
   "metadata": {},
   "outputs": [],
   "source": [
    "import os, sys\n",
    "curr_dir = os.getcwd()\n",
    "parent_dir = os.path.dirname(curr_dir)\n",
    "sys.path.insert(0, parent_dir)"
   ]
  },
  {
   "cell_type": "code",
   "execution_count": 2,
   "id": "5c8c8b6a-126e-4adc-abbb-57660772baf3",
   "metadata": {},
   "outputs": [],
   "source": [
    "import numpy as np\n",
    "import pandas as pd"
   ]
  },
  {
   "cell_type": "code",
   "execution_count": 3,
   "id": "b52d360b-c761-4072-8984-b29da09f14cf",
   "metadata": {},
   "outputs": [],
   "source": [
    "df = pd.read_csv(\"../data/final_cleaned_data.csv\")"
   ]
  },
  {
   "cell_type": "code",
   "execution_count": 4,
   "id": "e8fcad15-6c4a-4c3e-b021-82efe0c27db7",
   "metadata": {
    "scrolled": true
   },
   "outputs": [
    {
     "data": {
      "text/plain": [
       "(1000098, 47)"
      ]
     },
     "execution_count": 4,
     "metadata": {},
     "output_type": "execute_result"
    }
   ],
   "source": [
    "df.shape"
   ]
  },
  {
   "cell_type": "code",
   "execution_count": 5,
   "id": "b25e4553-3c87-41a3-8ce5-e4a959a4153c",
   "metadata": {},
   "outputs": [
    {
     "data": {
      "text/plain": [
       "Gender\n",
       "Not specified    950526\n",
       "Male              42817\n",
       "Female             6755\n",
       "Name: count, dtype: int64"
      ]
     },
     "execution_count": 5,
     "metadata": {},
     "output_type": "execute_result"
    }
   ],
   "source": [
    "df['Gender'].value_counts()"
   ]
  },
  {
   "cell_type": "code",
   "execution_count": 6,
   "id": "bd2d7cfd-a1cb-44e9-bf29-51d6f5768aef",
   "metadata": {},
   "outputs": [],
   "source": [
    "from scripts.hypothesis_testing import ABHypothesisTesting\n",
    "hypothesis_tester = ABHypothesisTesting(df)"
   ]
  },
  {
   "cell_type": "code",
   "execution_count": 7,
   "id": "5eb9f94e-9b26-4c14-8203-a735d867e3ce",
   "metadata": {},
   "outputs": [
    {
     "name": "stdout",
     "output_type": "stream",
     "text": [
      "KPI selected: TotalClaims\n"
     ]
    }
   ],
   "source": [
    "kpi = hypothesis_tester.select_metrics(\"TotalClaims\")"
   ]
  },
  {
   "cell_type": "code",
   "execution_count": null,
   "id": "d8ae97fe-cf73-4f40-a2a7-7b27a28fc02a",
   "metadata": {},
   "outputs": [],
   "source": []
  },
  {
   "cell_type": "code",
   "execution_count": 8,
   "id": "c7caf43c-7b1e-4644-b645-0bec9463ba66",
   "metadata": {},
   "outputs": [
    {
     "name": "stdout",
     "output_type": "stream",
     "text": [
      "Data segmented by Gender: Group A (Male), Group B (Female)\n"
     ]
    }
   ],
   "source": [
    "# Data segmentation\n",
    "segmented_data = hypothesis_tester.segment_data(feature=\"Gender\", group_a_value=\"Male\", group_b_value=\"Female\")"
   ]
  },
  {
   "cell_type": "code",
   "execution_count": 9,
   "id": "a336d8ab-ab65-4b9b-bd32-e3b988d8f614",
   "metadata": {},
   "outputs": [
    {
     "name": "stdout",
     "output_type": "stream",
     "text": [
      "Performed t-test: p-value = 0.8041073961270343\n"
     ]
    }
   ],
   "source": [
    "p_value = hypothesis_tester.perform_statistical_test(\"t-test\")"
   ]
  },
  {
   "cell_type": "code",
   "execution_count": 10,
   "id": "29f93ff3-5683-435e-ba0a-f1b819d70114",
   "metadata": {},
   "outputs": [
    {
     "name": "stdout",
     "output_type": "stream",
     "text": [
      "Fail to reject the null hypothesis: The feature does not have a significant effect.\n"
     ]
    }
   ],
   "source": [
    "analysis_result = hypothesis_tester.analyze_results(p_value, alpha=0.05)"
   ]
  },
  {
   "cell_type": "code",
   "execution_count": null,
   "id": "2e7e59eb-4ed8-430e-83ed-c0ef21afea51",
   "metadata": {},
   "outputs": [],
   "source": []
  }
 ],
 "metadata": {
  "kernelspec": {
   "display_name": "Python 3 (ipykernel)",
   "language": "python",
   "name": "python3"
  },
  "language_info": {
   "codemirror_mode": {
    "name": "ipython",
    "version": 3
   },
   "file_extension": ".py",
   "mimetype": "text/x-python",
   "name": "python",
   "nbconvert_exporter": "python",
   "pygments_lexer": "ipython3",
   "version": "3.8.10"
  }
 },
 "nbformat": 4,
 "nbformat_minor": 5
}
