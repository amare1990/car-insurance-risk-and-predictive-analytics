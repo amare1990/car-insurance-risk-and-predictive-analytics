{
 "cells": [
  {
   "cell_type": "code",
   "execution_count": 1,
   "id": "08ec0f05-02b4-4ca8-a02c-d27034ade4cd",
   "metadata": {},
   "outputs": [],
   "source": [
    "import os, sys\n",
    "curr_dir = os.getcwd()\n",
    "parent_dir = os.path.dirname(curr_dir)\n",
    "sys.path.insert(0, parent_dir)"
   ]
  },
  {
   "cell_type": "code",
   "execution_count": 2,
   "id": "5c8c8b6a-126e-4adc-abbb-57660772baf3",
   "metadata": {},
   "outputs": [],
   "source": [
    "import numpy as np\n",
    "import pandas as pd"
   ]
  },
  {
   "cell_type": "code",
   "execution_count": 3,
   "id": "b52d360b-c761-4072-8984-b29da09f14cf",
   "metadata": {},
   "outputs": [],
   "source": [
    "df = pd.read_csv(\"../data/final_cleaned_data.csv\")"
   ]
  },
  {
   "cell_type": "code",
   "execution_count": 4,
   "id": "bd2d7cfd-a1cb-44e9-bf29-51d6f5768aef",
   "metadata": {},
   "outputs": [],
   "source": [
    "from scripts.hypothesis_testing import ABHypothesisTesting\n",
    "hypothesis_tester = ABHypothesisTesting(df)"
   ]
  },
  {
   "cell_type": "code",
   "execution_count": 5,
   "id": "0c015418-cbc1-475b-9d00-232236b3eb95",
   "metadata": {},
   "outputs": [
    {
     "name": "stdout",
     "output_type": "stream",
     "text": [
      "KPI selected: TotalClaims\n",
      "Data segmented by Gender: Group A (Female), Group B (Male)\n",
      "Performed t-test: p-value = 0.8041073961270343\n",
      "Fail to reject the null hypothesis: The feature does not have a significant effect.\n"
     ]
    }
   ],
   "source": [
    "# Example 1: Categorical Segmentation\n",
    "# Segment by Gender (categorical feature)\n",
    "hypothesis_tester.select_metrics(kpi=\"TotalClaims\")  # Select KPI to test\n",
    "hypothesis_tester.segment_by_category(feature=\"Gender\", group_a_value=\"Female\", group_b_value=\"Male\")\n",
    "\n",
    "# Perform t-test (default is t-test)\n",
    "p_value = hypothesis_tester.perform_statistical_test(test_type=\"t-test\")\n",
    "\n",
    "# Analyze the result\n",
    "hypothesis_tester.analyze_results(p_value)\n",
    "\n",
    "\n"
   ]
  },
  {
   "cell_type": "code",
   "execution_count": 6,
   "id": "636f5a30-67b2-4159-b74c-d925f8a4a366",
   "metadata": {},
   "outputs": [
    {
     "name": "stdout",
     "output_type": "stream",
     "text": [
      "Data segmented by PostalCode median: Group A (>= 2000.0), Group B (< 2000.0)\n",
      "Performed t-test: p-value = 0.0031039309970063243\n",
      "Reject the null hypothesis: The feature has a statistically significant effect.\n"
     ]
    }
   ],
   "source": [
    "# Example 2: Numerical Segmentation\n",
    "# Segment by a numeric feature's median (e.g., \"PostalCode\")\n",
    "hypothesis_tester.segment_by_numeric_median(feature=\"PostalCode\")\n",
    "\n",
    "# Perform t-test again (default is t-test)\n",
    "p_value = hypothesis_tester.perform_statistical_test(test_type=\"t-test\")\n",
    "\n",
    "# Analyze the result\n",
    "hypothesis_tester.analyze_results(p_value)"
   ]
  },
  {
   "cell_type": "code",
   "execution_count": 7,
   "id": "65104e5a-1cc8-4224-91ac-b1221ea59b47",
   "metadata": {},
   "outputs": [
    {
     "name": "stdout",
     "output_type": "stream",
     "text": [
      "Data segmented by Province: Group A (Gauteng), Group B (KwaZulu-Natal)\n",
      "Performed t-test: p-value = 0.19282435112283478\n",
      "Fail to reject the null hypothesis: The feature does not have a significant effect.\n",
      "Data segmented by Province: Group A (Gauteng), Group B (Mpumalanga)\n",
      "Performed t-test: p-value = 0.0011087960706090535\n",
      "Reject the null hypothesis: The feature has a statistically significant effect.\n",
      "Data segmented by Province: Group A (Gauteng), Group B (Eastern Cape)\n",
      "Performed t-test: p-value = 0.03983195104800561\n",
      "Reject the null hypothesis: The feature has a statistically significant effect.\n",
      "Data segmented by Province: Group A (Gauteng), Group B (Western Cape)\n",
      "Performed t-test: p-value = 0.05632044649871912\n",
      "Fail to reject the null hypothesis: The feature does not have a significant effect.\n",
      "Data segmented by Province: Group A (Gauteng), Group B (Limpopo)\n",
      "Performed t-test: p-value = 0.03249850185561555\n",
      "Reject the null hypothesis: The feature has a statistically significant effect.\n",
      "Data segmented by Province: Group A (Gauteng), Group B (North West)\n",
      "Performed t-test: p-value = 2.72782386003937e-06\n",
      "Reject the null hypothesis: The feature has a statistically significant effect.\n",
      "Data segmented by Province: Group A (Gauteng), Group B (Free State)\n",
      "Performed t-test: p-value = 0.26130534130225336\n",
      "Fail to reject the null hypothesis: The feature does not have a significant effect.\n",
      "Data segmented by Province: Group A (Gauteng), Group B (Northern Cape)\n",
      "Performed t-test: p-value = 0.04827055488877743\n",
      "Reject the null hypothesis: The feature has a statistically significant effect.\n",
      "Data segmented by Province: Group A (KwaZulu-Natal), Group B (Mpumalanga)\n",
      "Performed t-test: p-value = 0.00030304013936754406\n",
      "Reject the null hypothesis: The feature has a statistically significant effect.\n",
      "Data segmented by Province: Group A (KwaZulu-Natal), Group B (Eastern Cape)\n",
      "Performed t-test: p-value = 0.018076046482360386\n",
      "Reject the null hypothesis: The feature has a statistically significant effect.\n",
      "Data segmented by Province: Group A (KwaZulu-Natal), Group B (Western Cape)\n",
      "Performed t-test: p-value = 0.010487409669797759\n",
      "Reject the null hypothesis: The feature has a statistically significant effect.\n",
      "Data segmented by Province: Group A (KwaZulu-Natal), Group B (Limpopo)\n",
      "Performed t-test: p-value = 0.015072741654165677\n",
      "Reject the null hypothesis: The feature has a statistically significant effect.\n",
      "Data segmented by Province: Group A (KwaZulu-Natal), Group B (North West)\n",
      "Performed t-test: p-value = 4.3599613831956966e-07\n",
      "Reject the null hypothesis: The feature has a statistically significant effect.\n",
      "Data segmented by Province: Group A (KwaZulu-Natal), Group B (Free State)\n",
      "Performed t-test: p-value = 0.19004259621213324\n",
      "Fail to reject the null hypothesis: The feature does not have a significant effect.\n",
      "Data segmented by Province: Group A (KwaZulu-Natal), Group B (Northern Cape)\n",
      "Performed t-test: p-value = 0.04067870580977376\n",
      "Reject the null hypothesis: The feature has a statistically significant effect.\n",
      "Data segmented by Province: Group A (Mpumalanga), Group B (Eastern Cape)\n",
      "Performed t-test: p-value = 0.6704443156827611\n",
      "Fail to reject the null hypothesis: The feature does not have a significant effect.\n",
      "Data segmented by Province: Group A (Mpumalanga), Group B (Western Cape)\n",
      "Performed t-test: p-value = 0.0660831213761534\n",
      "Fail to reject the null hypothesis: The feature does not have a significant effect.\n",
      "Data segmented by Province: Group A (Mpumalanga), Group B (Limpopo)\n",
      "Performed t-test: p-value = 0.8655246972474153\n",
      "Fail to reject the null hypothesis: The feature does not have a significant effect.\n",
      "Data segmented by Province: Group A (Mpumalanga), Group B (North West)\n",
      "Performed t-test: p-value = 0.7809097184704273\n",
      "Fail to reject the null hypothesis: The feature does not have a significant effect.\n",
      "Data segmented by Province: Group A (Mpumalanga), Group B (Free State)\n",
      "Performed t-test: p-value = 0.8054410012282412\n",
      "Fail to reject the null hypothesis: The feature does not have a significant effect.\n",
      "Data segmented by Province: Group A (Mpumalanga), Group B (Northern Cape)\n",
      "Performed t-test: p-value = 0.23382244833611257\n",
      "Fail to reject the null hypothesis: The feature does not have a significant effect.\n",
      "Data segmented by Province: Group A (Eastern Cape), Group B (Western Cape)\n",
      "Performed t-test: p-value = 0.31230577247494157\n",
      "Fail to reject the null hypothesis: The feature does not have a significant effect.\n",
      "Data segmented by Province: Group A (Eastern Cape), Group B (Limpopo)\n",
      "Performed t-test: p-value = 0.8293358384869793\n",
      "Fail to reject the null hypothesis: The feature does not have a significant effect.\n",
      "Data segmented by Province: Group A (Eastern Cape), Group B (North West)\n",
      "Performed t-test: p-value = 0.7810715478092998\n",
      "Fail to reject the null hypothesis: The feature does not have a significant effect.\n",
      "Data segmented by Province: Group A (Eastern Cape), Group B (Free State)\n",
      "Performed t-test: p-value = 0.9751932757358199\n",
      "Fail to reject the null hypothesis: The feature does not have a significant effect.\n",
      "Data segmented by Province: Group A (Eastern Cape), Group B (Northern Cape)\n",
      "Performed t-test: p-value = 0.29806514077435703\n",
      "Fail to reject the null hypothesis: The feature does not have a significant effect.\n",
      "Data segmented by Province: Group A (Western Cape), Group B (Limpopo)\n",
      "Performed t-test: p-value = 0.24008537618186093\n",
      "Fail to reject the null hypothesis: The feature does not have a significant effect.\n",
      "Data segmented by Province: Group A (Western Cape), Group B (North West)\n",
      "Performed t-test: p-value = 0.01694214222421799\n",
      "Reject the null hypothesis: The feature has a statistically significant effect.\n",
      "Data segmented by Province: Group A (Western Cape), Group B (Free State)\n",
      "Performed t-test: p-value = 0.5614475931108761\n",
      "Fail to reject the null hypothesis: The feature does not have a significant effect.\n",
      "Data segmented by Province: Group A (Western Cape), Group B (Northern Cape)\n",
      "Performed t-test: p-value = 0.1502847003614991\n",
      "Fail to reject the null hypothesis: The feature does not have a significant effect.\n",
      "Data segmented by Province: Group A (Limpopo), Group B (North West)\n",
      "Performed t-test: p-value = 0.9749405239268913\n",
      "Fail to reject the null hypothesis: The feature does not have a significant effect.\n",
      "Data segmented by Province: Group A (Limpopo), Group B (Free State)\n",
      "Performed t-test: p-value = 0.8970067260856867\n",
      "Fail to reject the null hypothesis: The feature does not have a significant effect.\n",
      "Data segmented by Province: Group A (Limpopo), Group B (Northern Cape)\n",
      "Performed t-test: p-value = 0.19238696630642257\n",
      "Fail to reject the null hypothesis: The feature does not have a significant effect.\n",
      "Data segmented by Province: Group A (North West), Group B (Free State)\n",
      "Performed t-test: p-value = 0.9055293817130785\n",
      "Fail to reject the null hypothesis: The feature does not have a significant effect.\n",
      "Data segmented by Province: Group A (North West), Group B (Northern Cape)\n",
      "Performed t-test: p-value = 0.23563978044614922\n",
      "Fail to reject the null hypothesis: The feature does not have a significant effect.\n",
      "Data segmented by Province: Group A (Free State), Group B (Northern Cape)\n",
      "Performed t-test: p-value = 0.2624912832612114\n",
      "Fail to reject the null hypothesis: The feature does not have a significant effect.\n"
     ]
    }
   ],
   "source": [
    "# Assuming hypothesis_tester is already an instance of ABHypothesisTesting\n",
    "\n",
    "provinces = df[\"Province\"].unique()\n",
    "\n",
    "for i in range(len(provinces) - 1):\n",
    "    for j in range(i + 1, len(provinces)):\n",
    "        # Pass the province values, not the pre-filtered data\n",
    "        hypothesis_tester.segment_by_category(feature=\"Province\", \n",
    "                                               group_a_value=provinces[i], \n",
    "                                               group_b_value=provinces[j])\n",
    "        \n",
    "        p_value = hypothesis_tester.perform_statistical_test(test_type=\"t-test\")\n",
    "        \n",
    "        # Analyze the result\n",
    "        hypothesis_tester.analyze_results(p_value)\n"
   ]
  },
  {
   "cell_type": "code",
   "execution_count": 8,
   "id": "1465e1f4-74bc-4365-9893-1c02dd729e4f",
   "metadata": {},
   "outputs": [
    {
     "name": "stdout",
     "output_type": "stream",
     "text": [
      "KPI selected: ProfitMargin\n",
      "Data segmented by PostalCode median: Group A (>= 2000.0), Group B (< 2000.0)\n",
      "Performed t-test: p-value = 0.2885925183148811\n",
      "Fail to reject the null hypothesis: The feature does not have a significant effect.\n"
     ]
    }
   ],
   "source": [
    "# Testing the Margin(Profit) between Postal codes\n",
    "df['ProfitMargin'] = df['TotalPremium'] - df['TotalClaims']\n",
    "hypothesis_tester.select_metrics(kpi=\"ProfitMargin\")\n",
    "\n",
    "hypothesis_tester.segment_by_numeric_median(feature=\"PostalCode\")\n",
    "p_value = hypothesis_tester.perform_statistical_test(test_type=\"t-test\")\n",
    "hypothesis_tester.analyze_results(p_value)\n"
   ]
  },
  {
   "cell_type": "code",
   "execution_count": null,
   "id": "77a83d76-9d64-4b00-8741-a7a7f0ad007f",
   "metadata": {},
   "outputs": [],
   "source": []
  }
 ],
 "metadata": {
  "kernelspec": {
   "display_name": "Python 3 (ipykernel)",
   "language": "python",
   "name": "python3"
  },
  "language_info": {
   "codemirror_mode": {
    "name": "ipython",
    "version": 3
   },
   "file_extension": ".py",
   "mimetype": "text/x-python",
   "name": "python",
   "nbconvert_exporter": "python",
   "pygments_lexer": "ipython3",
   "version": "3.8.10"
  }
 },
 "nbformat": 4,
 "nbformat_minor": 5
}
