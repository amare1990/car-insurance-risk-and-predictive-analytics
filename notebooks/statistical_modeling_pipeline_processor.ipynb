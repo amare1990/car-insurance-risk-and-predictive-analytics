{
 "cells": [
  {
   "cell_type": "code",
   "execution_count": null,
   "id": "c04ae2a2-805e-4447-9f1b-95cf984d45fb",
   "metadata": {
    "scrolled": true
   },
   "outputs": [],
   "source": [
    "# Insert the parent directory to the system path\n",
    "import os, sys\n",
    "curr_dir = os.getcwd()\n",
    "parent_dir = os.path.dirname(curr_dir)\n",
    "sys.path.insert(0, parent_dir)\n",
    "parent_dir, curr_dir"
   ]
  },
  {
   "cell_type": "code",
   "execution_count": 2,
   "id": "5bcfe3aa-9984-41bd-9d0f-9c7dce69f225",
   "metadata": {},
   "outputs": [],
   "source": [
    "import numpy as np\n",
    "import pandas as pd"
   ]
  },
  {
   "cell_type": "code",
   "execution_count": null,
   "id": "928669a5-002e-4a03-9fa6-0c493ef2d261",
   "metadata": {},
   "outputs": [],
   "source": [
    "from scripts.statistical_model_pipeline_process import model_builder_evaluator\n",
    "# Encoding, spliting, model building, model evaluation, feature importance analysis, model predicatabilty analysis, Model performance comparison \n",
    "model_builder_evaluator()"
   ]
  }
 ],
 "metadata": {
  "kernelspec": {
   "display_name": "Python 3 (ipykernel)",
   "language": "python",
   "name": "python3"
  },
  "language_info": {
   "codemirror_mode": {
    "name": "ipython",
    "version": 3
   },
   "file_extension": ".py",
   "mimetype": "text/x-python",
   "name": "python",
   "nbconvert_exporter": "python",
   "pygments_lexer": "ipython3",
   "version": "3.8.10"
  }
 },
 "nbformat": 4,
 "nbformat_minor": 5
}
