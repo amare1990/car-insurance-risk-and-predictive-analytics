{
 "cells": [
  {
   "cell_type": "code",
   "execution_count": 1,
   "id": "a3dbb69e-3230-41d6-94df-b34829e01453",
   "metadata": {},
   "outputs": [],
   "source": [
    "import os, sys\n",
    "curr_dir = os.getcwd()\n",
    "parent_dir = os.path.dirname(curr_dir)\n",
    "sys.path.insert(0, parent_dir)"
   ]
  },
  {
   "cell_type": "code",
   "execution_count": 2,
   "id": "91d1bc8d-8e97-44b8-8068-812201d5dda6",
   "metadata": {},
   "outputs": [],
   "source": [
    "import numpy as np\n",
    "import pandas as pd"
   ]
  },
  {
   "cell_type": "code",
   "execution_count": 3,
   "id": "c07a9852-d22b-4151-96d4-77c573751920",
   "metadata": {},
   "outputs": [],
   "source": [
    "# from scripts.data_cleaning import DataCleaning\n",
    "\n",
    "# data_cleaner = DataCleaning(\n",
    "#     input_file=\"../data/MachineLearningRating_v3.csv\",\n",
    "#     output_file=\"../data/cleaned_data.csv\"\n",
    "# )\n",
    "# df_cleaned_initial = data_cleaner.initial_processing()\n"
   ]
  },
  {
   "cell_type": "code",
   "execution_count": 4,
   "id": "3387a71c-276f-46be-bea6-10274c3f2a88",
   "metadata": {},
   "outputs": [],
   "source": [
    "# df = pd.read_csv(\"../data/cleaned_data.csv\")"
   ]
  },
  {
   "cell_type": "code",
   "execution_count": 5,
   "id": "baf3c57f-1309-45a5-ba1c-e7974712c33f",
   "metadata": {},
   "outputs": [],
   "source": [
    "# df.head()"
   ]
  },
  {
   "cell_type": "code",
   "execution_count": 6,
   "id": "93146ea1-8449-483a-adf0-1f306a743242",
   "metadata": {},
   "outputs": [],
   "source": [
    "# df.columns"
   ]
  },
  {
   "cell_type": "code",
   "execution_count": 7,
   "id": "834cad99-4b63-4ff7-a76c-f15cee66dae9",
   "metadata": {},
   "outputs": [],
   "source": [
    "# df.shape"
   ]
  },
  {
   "cell_type": "code",
   "execution_count": 8,
   "id": "07922c5c-ca7b-4f69-b1be-84919be4249d",
   "metadata": {},
   "outputs": [],
   "source": [
    "# df.shape"
   ]
  },
  {
   "cell_type": "code",
   "execution_count": 9,
   "id": "be3381aa-d02b-461c-a4ed-de4b83125516",
   "metadata": {},
   "outputs": [],
   "source": [
    "# # 3. Apply the `drop_empty_column` method to remove completely empty columns\n",
    "# from scripts.data_cleaning import DataCleaning\n",
    "# data_cleaner = DataCleaning(\n",
    "#     input_file=\"../data/MachineLearningRating_v3.csv\",\n",
    "#     output_file=\"../data/cleaned_data.csv\"\n",
    "# )"
   ]
  },
  {
   "cell_type": "code",
   "execution_count": 10,
   "id": "f169a265-fb38-47bf-97c9-b7fd99c36546",
   "metadata": {},
   "outputs": [],
   "source": [
    "# df_dup_dropped , dropped_rows_dict = data_cleaner.customized_drop_duplicates(df)"
   ]
  },
  {
   "cell_type": "code",
   "execution_count": 11,
   "id": "f716c2d0-1039-436e-b266-d82201df0fe5",
   "metadata": {},
   "outputs": [],
   "source": [
    "# df_dup_dropped.shape"
   ]
  },
  {
   "cell_type": "code",
   "execution_count": 12,
   "id": "a4ce5caa-901a-4960-bf30-edc60ee0a2bf",
   "metadata": {},
   "outputs": [],
   "source": [
    "# dropped_rows_dict"
   ]
  },
  {
   "cell_type": "code",
   "execution_count": 13,
   "id": "0f3acf4b-c154-47d7-8286-23a59a44e24b",
   "metadata": {},
   "outputs": [],
   "source": [
    "# df_cleaned_empty = data_cleaner.drop_empty_column(df_dup_dropped )"
   ]
  },
  {
   "cell_type": "code",
   "execution_count": 14,
   "id": "64b4f8bb-fbdc-4a35-b2b2-4192154f2f5d",
   "metadata": {},
   "outputs": [],
   "source": [
    "# df_cleaned_empty.shape"
   ]
  },
  {
   "cell_type": "code",
   "execution_count": 15,
   "id": "ba877353-a8f2-440f-9f8d-81fb00778588",
   "metadata": {},
   "outputs": [],
   "source": [
    "# 4. Apply the `clean_dataframe_and_save` method to clean the DataFrame based on the missing values threshold\n",
    "# df_cleaned_final = data_cleaner.clean_dataframe_and_save(df_cleaned_empty, threshold=30)"
   ]
  },
  {
   "cell_type": "code",
   "execution_count": 16,
   "id": "0e8e73b0-2407-4e45-8a11-4751d8067516",
   "metadata": {},
   "outputs": [],
   "source": [
    "# df_cleaned_final.shape"
   ]
  },
  {
   "cell_type": "code",
   "execution_count": 17,
   "id": "bb768833-94a6-4dd8-8a47-dc2078151740",
   "metadata": {},
   "outputs": [],
   "source": [
    "from scripts.data_cleaning import DataCleaning\n",
    "data_cleaner = DataCleaning(\n",
    "     input_file=\"../data/MachineLearningRating_v3.csv\",\n",
    "     output_file=\"../data/final_cleaned_data.csv\"\n",
    " )"
   ]
  },
  {
   "cell_type": "code",
   "execution_count": 18,
   "id": "f57ba549-f9cb-4408-ab27-e0041343e6c3",
   "metadata": {},
   "outputs": [
    {
     "name": "stdout",
     "output_type": "stream",
     "text": [
      "Loading data from ../data/MachineLearningRating_v3.csv...\n"
     ]
    },
    {
     "name": "stderr",
     "output_type": "stream",
     "text": [
      "/home/am/Documents/Software Development/10_Academy Training/week3/car-insurance-risk-and-predictive-analytics/scripts/data_cleaning.py:24: DtypeWarning: Columns (32,37) have mixed types. Specify dtype option on import or set low_memory=False.\n",
      "  return pd.read_csv(self.input_file)\n"
     ]
    },
    {
     "name": "stdout",
     "output_type": "stream",
     "text": [
      "No duplicates found.\n",
      "Converting CapitalOutstanding to float type for numerical processing.\n",
      "CrossBorder: 698 'No' values and 999400 missing/NaN values.\n",
      "Converting CrossBorder to string type and handling missing values.\n",
      "CrossBorder cleaned: now has types [<class 'str'>] and example values ['Unknown' 'No']\n",
      "Invalid dates found in TransactionMonth: 0\n",
      "Column NumberOfVehiclesInFleet is entirely empty, dropping it.\n",
      "Replacing missing values in categorical column Bank with mode.\n",
      "Replacing missing values in categorical column AccountType with mode.\n",
      "Replacing missing values in categorical column MaritalStatus with mode.\n",
      "Replacing missing values in categorical column Gender with mode.\n",
      "Replacing missing values in numeric column mmcode with mean.\n",
      "Replacing missing values in categorical column VehicleType with mode.\n",
      "Replacing missing values in categorical column make with mode.\n",
      "Replacing missing values in categorical column Model with mode.\n",
      "Replacing missing values in numeric column Cylinders with mean.\n",
      "Replacing missing values in numeric column cubiccapacity with mean.\n",
      "Replacing missing values in numeric column kilowatts with mean.\n",
      "Replacing missing values in categorical column bodytype with mode.\n",
      "Replacing missing values in numeric column NumberOfDoors with mean.\n",
      "Replacing missing values in categorical column VehicleIntroDate with mode.\n",
      "Dropping column CustomValueEstimate with 779642 missing/infinite values.\n",
      "Replacing missing values in numeric column CapitalOutstanding with mean.\n",
      "Replacing missing values in categorical column NewVehicle with mode.\n",
      "Dropping column WrittenOff with 641901 missing/infinite values.\n",
      "Dropping column Rebuilt with 641901 missing/infinite values.\n",
      "Dropping column Converted with 641901 missing/infinite values.\n",
      "Final cleaned data saved to ../data/final_cleaned_data.csv.\n"
     ]
    }
   ],
   "source": [
    "pipelined_output = data_cleaner.process_pipeline()"
   ]
  },
  {
   "cell_type": "code",
   "execution_count": 19,
   "id": "03537eaa-96d2-4344-9ec7-2c141dbb3968",
   "metadata": {},
   "outputs": [
    {
     "data": {
      "text/plain": [
       "(1000098, 47)"
      ]
     },
     "execution_count": 19,
     "metadata": {},
     "output_type": "execute_result"
    }
   ],
   "source": [
    "df = pipelined_output\n",
    "df.shape"
   ]
  },
  {
   "cell_type": "code",
   "execution_count": null,
   "id": "d545a1b8-c936-4b43-b4a5-45011dc9744a",
   "metadata": {},
   "outputs": [],
   "source": []
  }
 ],
 "metadata": {
  "kernelspec": {
   "display_name": "Python 3 (ipykernel)",
   "language": "python",
   "name": "python3"
  },
  "language_info": {
   "codemirror_mode": {
    "name": "ipython",
    "version": 3
   },
   "file_extension": ".py",
   "mimetype": "text/x-python",
   "name": "python",
   "nbconvert_exporter": "python",
   "pygments_lexer": "ipython3",
   "version": "3.8.10"
  }
 },
 "nbformat": 4,
 "nbformat_minor": 5
}
