{
 "cells": [
  {
   "cell_type": "code",
   "execution_count": 1,
   "id": "a3dbb69e-3230-41d6-94df-b34829e01453",
   "metadata": {},
   "outputs": [],
   "source": [
    "import os, sys\n",
    "curr_dir = os.getcwd()\n",
    "parent_dir = os.path.dirname(curr_dir)\n",
    "sys.path.insert(0, parent_dir)"
   ]
  },
  {
   "cell_type": "code",
   "execution_count": 2,
   "id": "91d1bc8d-8e97-44b8-8068-812201d5dda6",
   "metadata": {},
   "outputs": [],
   "source": [
    "import numpy as np\n",
    "import pandas as pd"
   ]
  },
  {
   "cell_type": "code",
   "execution_count": 17,
   "id": "bb768833-94a6-4dd8-8a47-dc2078151740",
   "metadata": {},
   "outputs": [],
   "source": [
    "from scripts.data_cleaning import DataCleaning\n",
    "data_cleaner = DataCleaning(\n",
    "     input_file=\"../data/MachineLearningRating_v3.csv\",\n",
    "     output_file=\"../data/final_cleaned_data.csv\"\n",
    " )"
   ]
  },
  {
   "cell_type": "code",
   "execution_count": 18,
   "id": "f57ba549-f9cb-4408-ab27-e0041343e6c3",
   "metadata": {},
   "outputs": [
    {
     "name": "stdout",
     "output_type": "stream",
     "text": [
      "Loading data from ../data/MachineLearningRating_v3.csv...\n"
     ]
    },
    {
     "name": "stderr",
     "output_type": "stream",
     "text": [
      "/home/am/Documents/Software Development/10_Academy Training/week3/car-insurance-risk-and-predictive-analytics/scripts/data_cleaning.py:34: DtypeWarning: Columns (32,37) have mixed types. Specify dtype option on import or set low_memory=False.\n",
      "  return pd.read_csv(self.input_file)\n"
     ]
    },
    {
     "name": "stdout",
     "output_type": "stream",
     "text": [
      "No duplicates found.\n",
      "Converting CapitalOutstanding to float type for numerical processing.\n",
      "CrossBorder: 698 'No' values and 999400 missing/NaN values.\n",
      "Converting CrossBorder to string type and handling missing values.\n",
      "CrossBorder cleaned: now has types [<class 'str'>]             and example values ['Unknown' 'No']\n",
      "Invalid dates found in TransactionMonth: 0\n",
      "Column NumberOfVehiclesInFleet is entirely empty, dropping it.\n",
      "Replacing missing values in categorical column Bank with mode.\n",
      "Replacing missing values in categorical column AccountType with mode.\n",
      "Replacing missing values in categorical column MaritalStatus with mode.\n",
      "Replacing missing values in categorical column Gender with mode.\n",
      "Replacing missing values in numeric column mmcode with mean.\n",
      "Replacing missing values in categorical column VehicleType with mode.\n",
      "Replacing missing values in categorical column make with mode.\n",
      "Replacing missing values in categorical column Model with mode.\n",
      "Replacing missing values in numeric column Cylinders with mean.\n",
      "Replacing missing values in numeric column cubiccapacity with mean.\n",
      "Replacing missing values in numeric column kilowatts with mean.\n",
      "Replacing missing values in categorical column bodytype with mode.\n",
      "Replacing missing values in numeric column NumberOfDoors with mean.\n",
      "Replacing missing values in categorical column VehicleIntroDate with mode.\n",
      "Dropping column CustomValueEstimate with 779642 missing/infinite values.\n",
      "Replacing missing values in numeric column CapitalOutstanding with mean.\n",
      "Replacing missing values in categorical column NewVehicle with mode.\n",
      "Dropping column WrittenOff with 641901 missing/infinite values.\n",
      "Dropping column Rebuilt with 641901 missing/infinite values.\n",
      "Dropping column Converted with 641901 missing/infinite values.\n",
      "Final cleaned data saved to ../data/final_cleaned_data.csv.\n"
     ]
    }
   ],
   "source": [
    "pipelined_output = data_cleaner.process_pipeline()"
   ]
  },
  {
   "cell_type": "code",
   "execution_count": 19,
   "id": "03537eaa-96d2-4344-9ec7-2c141dbb3968",
   "metadata": {},
   "outputs": [
    {
     "data": {
      "text/plain": [
       "(1000098, 47)"
      ]
     },
     "execution_count": 19,
     "metadata": {},
     "output_type": "execute_result"
    }
   ],
   "source": [
    "df = pipelined_output\n",
    "df.shape"
   ]
  },
  {
   "cell_type": "code",
   "execution_count": null,
   "id": "d545a1b8-c936-4b43-b4a5-45011dc9744a",
   "metadata": {},
   "outputs": [],
   "source": []
  }
 ],
 "metadata": {
  "kernelspec": {
   "display_name": "Python 3 (ipykernel)",
   "language": "python",
   "name": "python3"
  },
  "language_info": {
   "codemirror_mode": {
    "name": "ipython",
    "version": 3
   },
   "file_extension": ".py",
   "mimetype": "text/x-python",
   "name": "python",
   "nbconvert_exporter": "python",
   "pygments_lexer": "ipython3",
   "version": "3.8.10"
  }
 },
 "nbformat": 4,
 "nbformat_minor": 5
}
