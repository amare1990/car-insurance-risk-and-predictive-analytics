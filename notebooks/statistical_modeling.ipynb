{
 "cells": [
  {
   "cell_type": "code",
   "execution_count": 1,
   "id": "c04ae2a2-805e-4447-9f1b-95cf984d45fb",
   "metadata": {},
   "outputs": [],
   "source": [
    "# Insert the parent directory to the system path\n",
    "import os, sys\n",
    "curr_dir = os.getcwd()\n",
    "parent_dir = os.path.dirname(curr_dir)\n",
    "sys.path.insert(0, parent_dir)"
   ]
  },
  {
   "cell_type": "code",
   "execution_count": 2,
   "id": "5bcfe3aa-9984-41bd-9d0f-9c7dce69f225",
   "metadata": {},
   "outputs": [],
   "source": [
    "import numpy as np\n",
    "import pandas as pd"
   ]
  },
  {
   "cell_type": "code",
   "execution_count": 3,
   "id": "3c83596b-0c52-456e-881b-bd6922f7b2b4",
   "metadata": {},
   "outputs": [
    {
     "name": "stdout",
     "output_type": "stream",
     "text": [
      "Loading data from ../data/MachineLearningRating_v3.csv...\n"
     ]
    },
    {
     "name": "stderr",
     "output_type": "stream",
     "text": [
      "/home/am/Documents/Software Development/10_Academy Training/week3/car-insurance-risk-and-predictive-analytics/scripts/data_cleaning.py:34: DtypeWarning: Columns (32,37) have mixed types. Specify dtype option on import or set low_memory=False.\n",
      "  return pd.read_csv(self.input_file)\n"
     ]
    },
    {
     "name": "stdout",
     "output_type": "stream",
     "text": [
      "No duplicates found.\n",
      "Converting CapitalOutstanding to float type for numerical processing.\n",
      "CrossBorder: 698 'No' values and 999400 missing/NaN values.\n",
      "Converting CrossBorder to string type and handling missing values.\n",
      "CrossBorder cleaned: now has types [<class 'str'>]             and example values ['Unknown' 'No']\n",
      "Invalid dates found in TransactionMonth: 0\n",
      "Column NumberOfVehiclesInFleet is entirely empty, dropping it.\n",
      "Replacing missing values in categorical column Bank with mode.\n",
      "Replacing missing values in categorical column AccountType with mode.\n",
      "Replacing missing values in categorical column MaritalStatus with mode.\n",
      "Replacing missing values in categorical column Gender with mode.\n",
      "Replacing missing values in numeric column mmcode with mean.\n",
      "Replacing missing values in categorical column VehicleType with mode.\n",
      "Replacing missing values in categorical column make with mode.\n",
      "Replacing missing values in categorical column Model with mode.\n",
      "Replacing missing values in numeric column Cylinders with mean.\n",
      "Replacing missing values in numeric column cubiccapacity with mean.\n",
      "Replacing missing values in numeric column kilowatts with mean.\n",
      "Replacing missing values in categorical column bodytype with mode.\n",
      "Replacing missing values in numeric column NumberOfDoors with mean.\n",
      "Replacing missing values in categorical column VehicleIntroDate with mode.\n",
      "Dropping column CustomValueEstimate with 779642 missing/infinite values.\n",
      "Replacing missing values in numeric column CapitalOutstanding with mean.\n",
      "Replacing missing values in categorical column NewVehicle with mode.\n",
      "Dropping column WrittenOff with 641901 missing/infinite values.\n",
      "Dropping column Rebuilt with 641901 missing/infinite values.\n",
      "Dropping column Converted with 641901 missing/infinite values.\n",
      "Final cleaned data saved to ../data/final_cleaned_data_stmodeling.csv.\n"
     ]
    }
   ],
   "source": [
    "from scripts.statistical_modeling import StatisticalModeling\n",
    "stat_model = StatisticalModeling()"
   ]
  },
  {
   "cell_type": "code",
   "execution_count": 4,
   "id": "928669a5-002e-4a03-9fa6-0c493ef2d261",
   "metadata": {},
   "outputs": [
    {
     "data": {
      "text/plain": [
       "(1000098, 47)"
      ]
     },
     "execution_count": 4,
     "metadata": {},
     "output_type": "execute_result"
    }
   ],
   "source": [
    "stat_model.data.shape"
   ]
  },
  {
   "cell_type": "code",
   "execution_count": 5,
   "id": "26689ca7-748e-4734-8da3-0418df44ae91",
   "metadata": {},
   "outputs": [
    {
     "name": "stdout",
     "output_type": "stream",
     "text": [
      "Created new feature: PremiumPerClaim\n"
     ]
    }
   ],
   "source": [
    "stat_model.feature_engineering()"
   ]
  },
  {
   "cell_type": "code",
   "execution_count": null,
   "id": "fa39d8d5-7343-41d4-9a75-aa3a97e8073c",
   "metadata": {},
   "outputs": [],
   "source": [
    "stat_model.encode_categorical_data()"
   ]
  },
  {
   "cell_type": "code",
   "execution_count": null,
   "id": "84a54034-b602-4518-b84f-5f2315d771fa",
   "metadata": {},
   "outputs": [],
   "source": []
  }
 ],
 "metadata": {
  "kernelspec": {
   "display_name": "Python 3 (ipykernel)",
   "language": "python",
   "name": "python3"
  },
  "language_info": {
   "codemirror_mode": {
    "name": "ipython",
    "version": 3
   },
   "file_extension": ".py",
   "mimetype": "text/x-python",
   "name": "python",
   "nbconvert_exporter": "python",
   "pygments_lexer": "ipython3",
   "version": "3.8.10"
  }
 },
 "nbformat": 4,
 "nbformat_minor": 5
}
