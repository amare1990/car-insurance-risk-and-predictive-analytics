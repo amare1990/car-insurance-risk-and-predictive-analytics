{
 "cells": [
  {
   "cell_type": "code",
   "execution_count": 1,
   "id": "c04ae2a2-805e-4447-9f1b-95cf984d45fb",
   "metadata": {},
   "outputs": [
    {
     "data": {
      "text/plain": [
       "('/home/am/Documents/Software Development/10_Academy Training/week3/car-insurance-risk-and-predictive-analytics',\n",
       " '/home/am/Documents/Software Development/10_Academy Training/week3/car-insurance-risk-and-predictive-analytics/notebooks')"
      ]
     },
     "execution_count": 1,
     "metadata": {},
     "output_type": "execute_result"
    }
   ],
   "source": [
    "# Insert the parent directory to the system path\n",
    "import os, sys\n",
    "curr_dir = os.getcwd()\n",
    "parent_dir = os.path.dirname(curr_dir)\n",
    "sys.path.insert(0, parent_dir)\n",
    "parent_dir, curr_dir"
   ]
  },
  {
   "cell_type": "code",
   "execution_count": 2,
   "id": "5bcfe3aa-9984-41bd-9d0f-9c7dce69f225",
   "metadata": {},
   "outputs": [],
   "source": [
    "# import numpy as np\n",
    "# import pandas as pd"
   ]
  },
  {
   "cell_type": "code",
   "execution_count": 3,
   "id": "a24f63dc-c60a-4417-ac96-8488f79ce8d5",
   "metadata": {},
   "outputs": [],
   "source": [
    "# df = pd.read_csv('../data/final_cleaned_data.csv')\n",
    "# output_file=\"../data/Encoded_data.csv\""
   ]
  },
  {
   "cell_type": "code",
   "execution_count": 4,
   "id": "3c83596b-0c52-456e-881b-bd6922f7b2b4",
   "metadata": {},
   "outputs": [],
   "source": [
    "# from scripts.statistical_modeling import StatisticalModeling\n",
    "# stat_model = StatisticalModeling(df, output_file)"
   ]
  },
  {
   "cell_type": "code",
   "execution_count": 5,
   "id": "928669a5-002e-4a03-9fa6-0c493ef2d261",
   "metadata": {},
   "outputs": [
    {
     "name": "stdout",
     "output_type": "stream",
     "text": [
      "The dataset has shape of (1000098, 47)\n",
      "Created new feature: PremiumPerClaim\n"
     ]
    }
   ],
   "source": [
    "from scripts.statistical_model_builder_evaluator import model_builder_evaluator\n",
    "model_builder_evaluator()"
   ]
  },
  {
   "cell_type": "code",
   "execution_count": 6,
   "id": "7951fb37-6ebc-46be-b780-55f23dab55ae",
   "metadata": {},
   "outputs": [],
   "source": [
    "# stat_model."
   ]
  }
 ],
 "metadata": {
  "kernelspec": {
   "display_name": "Python 3 (ipykernel)",
   "language": "python",
   "name": "python3"
  },
  "language_info": {
   "codemirror_mode": {
    "name": "ipython",
    "version": 3
   },
   "file_extension": ".py",
   "mimetype": "text/x-python",
   "name": "python",
   "nbconvert_exporter": "python",
   "pygments_lexer": "ipython3",
   "version": "3.8.10"
  }
 },
 "nbformat": 4,
 "nbformat_minor": 5
}
