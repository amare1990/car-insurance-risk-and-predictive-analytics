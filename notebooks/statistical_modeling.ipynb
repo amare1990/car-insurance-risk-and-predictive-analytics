{
 "cells": [
  {
   "cell_type": "code",
   "execution_count": 1,
   "id": "c04ae2a2-805e-4447-9f1b-95cf984d45fb",
   "metadata": {},
   "outputs": [],
   "source": [
    "# Insert the parent directory to the system path\n",
    "import os, sys\n",
    "curr_dir = os.getcwd()\n",
    "parent_dir = os.path.dirname(curr_dir)\n",
    "sys.path.insert(0, parent_dir)"
   ]
  },
  {
   "cell_type": "code",
   "execution_count": 2,
   "id": "5bcfe3aa-9984-41bd-9d0f-9c7dce69f225",
   "metadata": {},
   "outputs": [],
   "source": [
    "import numpy as np\n",
    "import pandas as pd"
   ]
  },
  {
   "cell_type": "code",
   "execution_count": 3,
   "id": "a24f63dc-c60a-4417-ac96-8488f79ce8d5",
   "metadata": {},
   "outputs": [],
   "source": [
    "df = pd.read_csv('../data/final_cleaned_data.csv')\n",
    "output_file=\"../data/Encoded_data.csv\""
   ]
  },
  {
   "cell_type": "code",
   "execution_count": 4,
   "id": "3c83596b-0c52-456e-881b-bd6922f7b2b4",
   "metadata": {},
   "outputs": [],
   "source": [
    "from scripts.statistical_modeling import StatisticalModeling\n",
    "stat_model = StatisticalModeling(df, output_file)"
   ]
  },
  {
   "cell_type": "code",
   "execution_count": 5,
   "id": "928669a5-002e-4a03-9fa6-0c493ef2d261",
   "metadata": {},
   "outputs": [
    {
     "data": {
      "text/plain": [
       "(1000098, 47)"
      ]
     },
     "execution_count": 5,
     "metadata": {},
     "output_type": "execute_result"
    }
   ],
   "source": [
    "stat_model.data.shape"
   ]
  },
  {
   "cell_type": "code",
   "execution_count": 6,
   "id": "26689ca7-748e-4734-8da3-0418df44ae91",
   "metadata": {},
   "outputs": [
    {
     "name": "stdout",
     "output_type": "stream",
     "text": [
      "Created new feature: PremiumPerClaim\n"
     ]
    }
   ],
   "source": [
    "stat_model.feature_engineering()"
   ]
  },
  {
   "cell_type": "code",
   "execution_count": null,
   "id": "fa39d8d5-7343-41d4-9a75-aa3a97e8073c",
   "metadata": {},
   "outputs": [],
   "source": [
    "stat_model.encode_categorical_data()"
   ]
  },
  {
   "cell_type": "code",
   "execution_count": null,
   "id": "84a54034-b602-4518-b84f-5f2315d771fa",
   "metadata": {},
   "outputs": [],
   "source": [
    "stat_model.split_data(target=\"TotalClaims\", test_size=0.2)"
   ]
  },
  {
   "cell_type": "code",
   "execution_count": null,
   "id": "7fc2fad2-3cef-4302-b2a0-a54af3427e45",
   "metadata": {},
   "outputs": [],
   "source": [
    "stat_model.stat_model.build_model(model_type='linear_regression')"
   ]
  },
  {
   "cell_type": "code",
   "execution_count": null,
   "id": "c9b6da98-26d7-4aaf-af22-c3c9810cf3e5",
   "metadata": {},
   "outputs": [],
   "source": [
    "stat_model.evaluate_model(self, model_type='linear_regression')"
   ]
  }
 ],
 "metadata": {
  "kernelspec": {
   "display_name": "Python 3 (ipykernel)",
   "language": "python",
   "name": "python3"
  },
  "language_info": {
   "codemirror_mode": {
    "name": "ipython",
    "version": 3
   },
   "file_extension": ".py",
   "mimetype": "text/x-python",
   "name": "python",
   "nbconvert_exporter": "python",
   "pygments_lexer": "ipython3",
   "version": "3.8.10"
  }
 },
 "nbformat": 4,
 "nbformat_minor": 5
}
