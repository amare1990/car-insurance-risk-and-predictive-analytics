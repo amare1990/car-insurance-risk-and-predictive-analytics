{
 "cells": [
  {
   "cell_type": "code",
   "execution_count": 1,
   "id": "0fe7a8de-4148-42da-9c8e-6b20b09f2b29",
   "metadata": {},
   "outputs": [],
   "source": [
    "import os, sys\n",
    "\n",
    "curr_dir = os.getcwd()\n",
    "parent_dir = os.path.dirname(curr_dir)\n",
    "sys.path.insert(0, parent_dir)"
   ]
  },
  {
   "cell_type": "code",
   "execution_count": 2,
   "id": "19718e21-7535-4721-bca7-43ce3866b021",
   "metadata": {},
   "outputs": [
    {
     "data": {
      "text/plain": [
       "'/home/am/Documents/Software Development/10_Academy Training/week3/car-insurance-risk-and-predictive-analytics/notebooks'"
      ]
     },
     "execution_count": 2,
     "metadata": {},
     "output_type": "execute_result"
    }
   ],
   "source": [
    "curr_dir"
   ]
  },
  {
   "cell_type": "code",
   "execution_count": 4,
   "id": "1511aa69-9919-473b-9923-68a2b5588725",
   "metadata": {},
   "outputs": [],
   "source": [
    "from scripts.get_data import get_data"
   ]
  },
  {
   "cell_type": "code",
   "execution_count": 6,
   "id": "7a4651ea-fd9d-4102-970e-8864160df8f6",
   "metadata": {},
   "outputs": [],
   "source": [
    "df = get_data()"
   ]
  },
  {
   "cell_type": "code",
   "execution_count": 10,
   "id": "29d50830-6691-492f-bd0a-524e9a1c0363",
   "metadata": {},
   "outputs": [
    {
     "data": {
      "text/plain": [
       "(1000098, 52)"
      ]
     },
     "execution_count": 10,
     "metadata": {},
     "output_type": "execute_result"
    }
   ],
   "source": [
    "df.shape"
   ]
  },
  {
   "cell_type": "code",
   "execution_count": 12,
   "id": "a6e858d8-a15b-40f9-896d-030f9edba12e",
   "metadata": {},
   "outputs": [],
   "source": [
    "from scripts.eda import EDA\n",
    "eda_analysis = EDA(df)"
   ]
  },
  {
   "cell_type": "code",
   "execution_count": 13,
   "id": "bbe95b18-58e3-4647-a03f-8e0080ab67d7",
   "metadata": {},
   "outputs": [
    {
     "name": "stdout",
     "output_type": "stream",
     "text": [
      "Descriptive Statistics:\n",
      "        UnderwrittenCoverID      PolicyID     TransactionMonth  \\\n",
      "count          1.000098e+06  1.000098e+06              1000098   \n",
      "unique                  NaN           NaN                   23   \n",
      "top                     NaN           NaN  2015-08-01 00:00:00   \n",
      "freq                    NaN           NaN               106747   \n",
      "mean           1.048175e+05  7.956682e+03                  NaN   \n",
      "std            6.329371e+04  5.290039e+03                  NaN   \n",
      "min            1.000000e+00  1.400000e+01                  NaN   \n",
      "25%            5.514300e+04  4.500000e+03                  NaN   \n",
      "50%            9.408300e+04  7.071000e+03                  NaN   \n",
      "75%            1.391900e+05  1.107700e+04                  NaN   \n",
      "max            3.011750e+05  2.324600e+04                  NaN   \n",
      "\n",
      "       IsVATRegistered Citizenship   LegalType    Title Language  \\\n",
      "count          1000098     1000098     1000098  1000098  1000098   \n",
      "unique               2           4           6        5        1   \n",
      "top              False              Individual       Mr  English   \n",
      "freq            995075      895210      911929   933555  1000098   \n",
      "mean               NaN         NaN         NaN      NaN      NaN   \n",
      "std                NaN         NaN         NaN      NaN      NaN   \n",
      "min                NaN         NaN         NaN      NaN      NaN   \n",
      "25%                NaN         NaN         NaN      NaN      NaN   \n",
      "50%                NaN         NaN         NaN      NaN      NaN   \n",
      "75%                NaN         NaN         NaN      NaN      NaN   \n",
      "max                NaN         NaN         NaN      NaN      NaN   \n",
      "\n",
      "                       Bank      AccountType  ... ExcessSelected  \\\n",
      "count                854137           959866  ...        1000098   \n",
      "unique                   11                3  ...             13   \n",
      "top     First National Bank  Current account  ...      No excess   \n",
      "freq                 260811           597938  ...         791235   \n",
      "mean                    NaN              NaN  ...            NaN   \n",
      "std                     NaN              NaN  ...            NaN   \n",
      "min                     NaN              NaN  ...            NaN   \n",
      "25%                     NaN              NaN  ...            NaN   \n",
      "50%                     NaN              NaN  ...            NaN   \n",
      "75%                     NaN              NaN  ...            NaN   \n",
      "max                     NaN              NaN  ...            NaN   \n",
      "\n",
      "              CoverCategory   CoverType            CoverGroup  \\\n",
      "count               1000098     1000098               1000098   \n",
      "unique                   28          22                    14   \n",
      "top     Passenger Liability  Own Damage  Comprehensive - Taxi   \n",
      "freq                 104158      104183                824124   \n",
      "mean                    NaN         NaN                   NaN   \n",
      "std                     NaN         NaN                   NaN   \n",
      "min                     NaN         NaN                   NaN   \n",
      "25%                     NaN         NaN                   NaN   \n",
      "50%                     NaN         NaN                   NaN   \n",
      "75%                     NaN         NaN                   NaN   \n",
      "max                     NaN         NaN                   NaN   \n",
      "\n",
      "                    Section                             Product  \\\n",
      "count               1000098                             1000098   \n",
      "unique                    5                                   4   \n",
      "top     Motor Comprehensive  Mobility Commercial Cover: Monthly   \n",
      "freq                 828125                              915028   \n",
      "mean                    NaN                                 NaN   \n",
      "std                     NaN                                 NaN   \n",
      "min                     NaN                                 NaN   \n",
      "25%                     NaN                                 NaN   \n",
      "50%                     NaN                                 NaN   \n",
      "75%                     NaN                                 NaN   \n",
      "max                     NaN                                 NaN   \n",
      "\n",
      "       StatutoryClass StatutoryRiskType  TotalPremium   TotalClaims  \n",
      "count         1000098           1000098  1.000098e+06  1.000098e+06  \n",
      "unique              1                 1           NaN           NaN  \n",
      "top        Commercial     IFRS Constant           NaN           NaN  \n",
      "freq          1000098           1000098           NaN           NaN  \n",
      "mean              NaN               NaN  6.190550e+01  6.486119e+01  \n",
      "std               NaN               NaN  2.302845e+02  2.384075e+03  \n",
      "min               NaN               NaN -7.825768e+02 -1.200241e+04  \n",
      "25%               NaN               NaN  0.000000e+00  0.000000e+00  \n",
      "50%               NaN               NaN  2.178333e+00  0.000000e+00  \n",
      "75%               NaN               NaN  2.192982e+01  0.000000e+00  \n",
      "max               NaN               NaN  6.528260e+04  3.930921e+05  \n",
      "\n",
      "[11 rows x 52 columns]\n",
      "\n",
      "Data Types:\n",
      "UnderwrittenCoverID           int64\n",
      "PolicyID                      int64\n",
      "TransactionMonth             object\n",
      "IsVATRegistered                bool\n",
      "Citizenship                  object\n",
      "LegalType                    object\n",
      "Title                        object\n",
      "Language                     object\n",
      "Bank                         object\n",
      "AccountType                  object\n",
      "MaritalStatus                object\n",
      "Gender                       object\n",
      "Country                      object\n",
      "Province                     object\n",
      "PostalCode                    int64\n",
      "MainCrestaZone               object\n",
      "SubCrestaZone                object\n",
      "ItemType                     object\n",
      "mmcode                      float64\n",
      "VehicleType                  object\n",
      "RegistrationYear              int64\n",
      "make                         object\n",
      "Model                        object\n",
      "Cylinders                   float64\n",
      "cubiccapacity               float64\n",
      "kilowatts                   float64\n",
      "bodytype                     object\n",
      "NumberOfDoors               float64\n",
      "VehicleIntroDate             object\n",
      "CustomValueEstimate         float64\n",
      "AlarmImmobiliser             object\n",
      "TrackingDevice               object\n",
      "CapitalOutstanding           object\n",
      "NewVehicle                   object\n",
      "WrittenOff                   object\n",
      "Rebuilt                      object\n",
      "Converted                    object\n",
      "CrossBorder                  object\n",
      "NumberOfVehiclesInFleet     float64\n",
      "SumInsured                  float64\n",
      "TermFrequency                object\n",
      "CalculatedPremiumPerTerm    float64\n",
      "ExcessSelected               object\n",
      "CoverCategory                object\n",
      "CoverType                    object\n",
      "CoverGroup                   object\n",
      "Section                      object\n",
      "Product                      object\n",
      "StatutoryClass               object\n",
      "StatutoryRiskType            object\n",
      "TotalPremium                float64\n",
      "TotalClaims                 float64\n",
      "dtype: object\n"
     ]
    }
   ],
   "source": [
    "eda_analysis.summarize_data()"
   ]
  },
  {
   "cell_type": "code",
   "execution_count": 14,
   "id": "d741804c-aa1a-45a1-aba0-232b79cb26e1",
   "metadata": {},
   "outputs": [
    {
     "name": "stdout",
     "output_type": "stream",
     "text": [
      "Missing Values:\n",
      "UnderwrittenCoverID               0\n",
      "PolicyID                          0\n",
      "TransactionMonth                  0\n",
      "IsVATRegistered                   0\n",
      "Citizenship                       0\n",
      "LegalType                         0\n",
      "Title                             0\n",
      "Language                          0\n",
      "Bank                         145961\n",
      "AccountType                   40232\n",
      "MaritalStatus                  8259\n",
      "Gender                         9536\n",
      "Country                           0\n",
      "Province                          0\n",
      "PostalCode                        0\n",
      "MainCrestaZone                    0\n",
      "SubCrestaZone                     0\n",
      "ItemType                          0\n",
      "mmcode                          552\n",
      "VehicleType                     552\n",
      "RegistrationYear                  0\n",
      "make                            552\n",
      "Model                           552\n",
      "Cylinders                       552\n",
      "cubiccapacity                   552\n",
      "kilowatts                       552\n",
      "bodytype                        552\n",
      "NumberOfDoors                   552\n",
      "VehicleIntroDate                552\n",
      "CustomValueEstimate          779642\n",
      "AlarmImmobiliser                  0\n",
      "TrackingDevice                    0\n",
      "CapitalOutstanding                2\n",
      "NewVehicle                   153295\n",
      "WrittenOff                   641901\n",
      "Rebuilt                      641901\n",
      "Converted                    641901\n",
      "CrossBorder                  999400\n",
      "NumberOfVehiclesInFleet     1000098\n",
      "SumInsured                        0\n",
      "TermFrequency                     0\n",
      "CalculatedPremiumPerTerm          0\n",
      "ExcessSelected                    0\n",
      "CoverCategory                     0\n",
      "CoverType                         0\n",
      "CoverGroup                        0\n",
      "Section                           0\n",
      "Product                           0\n",
      "StatutoryClass                    0\n",
      "StatutoryRiskType                 0\n",
      "TotalPremium                      0\n",
      "TotalClaims                       0\n",
      "dtype: int64\n"
     ]
    }
   ],
   "source": [
    "eda_analysis.assess_data_quality()"
   ]
  },
  {
   "cell_type": "code",
   "execution_count": 15,
   "id": "0b11afba-2eb2-4ce2-bf3f-49edb53bdebc",
   "metadata": {},
   "outputs": [
    {
     "ename": "ValueError",
     "evalue": "could not convert string to float: '2015-03-01 00:00:00'",
     "output_type": "error",
     "traceback": [
      "\u001b[0;31m---------------------------------------------------------------------------\u001b[0m",
      "\u001b[0;31mValueError\u001b[0m                                Traceback (most recent call last)",
      "Cell \u001b[0;32mIn[15], line 1\u001b[0m\n\u001b[0;32m----> 1\u001b[0m \u001b[43meda_analysis\u001b[49m\u001b[38;5;241;43m.\u001b[39;49m\u001b[43mbivariate_analysis\u001b[49m\u001b[43m(\u001b[49m\u001b[43m)\u001b[49m\n",
      "File \u001b[0;32m~/Documents/Software Development/10_Academy Training/week3/car-insurance-risk-and-predictive-analytics/scripts/eda.py:49\u001b[0m, in \u001b[0;36mbivariate_analysis\u001b[0;34m(self)\u001b[0m\n\u001b[1;32m     47\u001b[0m \u001b[38;5;28;01mdef\u001b[39;00m \u001b[38;5;21mbivariate_analysis\u001b[39m(\u001b[38;5;28mself\u001b[39m):\n\u001b[1;32m     48\u001b[0m \u001b[38;5;250m    \u001b[39m\u001b[38;5;124;03m\"\"\"Explores relationships between features like TotalPremium, TotalClaims, and PostalCode.\"\"\"\u001b[39;00m\n\u001b[0;32m---> 49\u001b[0m     \u001b[38;5;28;01mif\u001b[39;00m {\u001b[38;5;124m\"\u001b[39m\u001b[38;5;124mTotalPremium\u001b[39m\u001b[38;5;124m\"\u001b[39m, \u001b[38;5;124m\"\u001b[39m\u001b[38;5;124mTotalClaims\u001b[39m\u001b[38;5;124m\"\u001b[39m, \u001b[38;5;124m\"\u001b[39m\u001b[38;5;124mPostalCode\u001b[39m\u001b[38;5;124m\"\u001b[39m}\u001b[38;5;241m.\u001b[39missubset(\u001b[38;5;28mself\u001b[39m\u001b[38;5;241m.\u001b[39mdata\u001b[38;5;241m.\u001b[39mcolumns):\n\u001b[1;32m     50\u001b[0m         plt\u001b[38;5;241m.\u001b[39mfigure(figsize\u001b[38;5;241m=\u001b[39m(\u001b[38;5;241m8\u001b[39m, \u001b[38;5;241m6\u001b[39m))\n\u001b[1;32m     51\u001b[0m         sns\u001b[38;5;241m.\u001b[39mscatterplot(data\u001b[38;5;241m=\u001b[39m\u001b[38;5;28mself\u001b[39m\u001b[38;5;241m.\u001b[39mdata, x\u001b[38;5;241m=\u001b[39m\u001b[38;5;124m\"\u001b[39m\u001b[38;5;124mTotalPremium\u001b[39m\u001b[38;5;124m\"\u001b[39m, y\u001b[38;5;241m=\u001b[39m\u001b[38;5;124m\"\u001b[39m\u001b[38;5;124mTotalClaims\u001b[39m\u001b[38;5;124m\"\u001b[39m, hue\u001b[38;5;241m=\u001b[39m\u001b[38;5;124m\"\u001b[39m\u001b[38;5;124mPostalCode\u001b[39m\u001b[38;5;124m\"\u001b[39m)\n",
      "File \u001b[0;32m~/Documents/Software Development/10_Academy Training/week3/car-insurance-risk-and-predictive-analytics/venv-car-insurance/lib/python3.8/site-packages/pandas/core/frame.py:10054\u001b[0m, in \u001b[0;36mDataFrame.corr\u001b[0;34m(self, method, min_periods, numeric_only)\u001b[0m\n\u001b[1;32m  10052\u001b[0m cols \u001b[38;5;241m=\u001b[39m data\u001b[38;5;241m.\u001b[39mcolumns\n\u001b[1;32m  10053\u001b[0m idx \u001b[38;5;241m=\u001b[39m cols\u001b[38;5;241m.\u001b[39mcopy()\n\u001b[0;32m> 10054\u001b[0m mat \u001b[38;5;241m=\u001b[39m \u001b[43mdata\u001b[49m\u001b[38;5;241;43m.\u001b[39;49m\u001b[43mto_numpy\u001b[49m\u001b[43m(\u001b[49m\u001b[43mdtype\u001b[49m\u001b[38;5;241;43m=\u001b[39;49m\u001b[38;5;28;43mfloat\u001b[39;49m\u001b[43m,\u001b[49m\u001b[43m \u001b[49m\u001b[43mna_value\u001b[49m\u001b[38;5;241;43m=\u001b[39;49m\u001b[43mnp\u001b[49m\u001b[38;5;241;43m.\u001b[39;49m\u001b[43mnan\u001b[49m\u001b[43m,\u001b[49m\u001b[43m \u001b[49m\u001b[43mcopy\u001b[49m\u001b[38;5;241;43m=\u001b[39;49m\u001b[38;5;28;43;01mFalse\u001b[39;49;00m\u001b[43m)\u001b[49m\n\u001b[1;32m  10056\u001b[0m \u001b[38;5;28;01mif\u001b[39;00m method \u001b[38;5;241m==\u001b[39m \u001b[38;5;124m\"\u001b[39m\u001b[38;5;124mpearson\u001b[39m\u001b[38;5;124m\"\u001b[39m:\n\u001b[1;32m  10057\u001b[0m     correl \u001b[38;5;241m=\u001b[39m libalgos\u001b[38;5;241m.\u001b[39mnancorr(mat, minp\u001b[38;5;241m=\u001b[39mmin_periods)\n",
      "File \u001b[0;32m~/Documents/Software Development/10_Academy Training/week3/car-insurance-risk-and-predictive-analytics/venv-car-insurance/lib/python3.8/site-packages/pandas/core/frame.py:1838\u001b[0m, in \u001b[0;36mDataFrame.to_numpy\u001b[0;34m(self, dtype, copy, na_value)\u001b[0m\n\u001b[1;32m   1836\u001b[0m \u001b[38;5;28;01mif\u001b[39;00m dtype \u001b[38;5;129;01mis\u001b[39;00m \u001b[38;5;129;01mnot\u001b[39;00m \u001b[38;5;28;01mNone\u001b[39;00m:\n\u001b[1;32m   1837\u001b[0m     dtype \u001b[38;5;241m=\u001b[39m np\u001b[38;5;241m.\u001b[39mdtype(dtype)\n\u001b[0;32m-> 1838\u001b[0m result \u001b[38;5;241m=\u001b[39m \u001b[38;5;28;43mself\u001b[39;49m\u001b[38;5;241;43m.\u001b[39;49m\u001b[43m_mgr\u001b[49m\u001b[38;5;241;43m.\u001b[39;49m\u001b[43mas_array\u001b[49m\u001b[43m(\u001b[49m\u001b[43mdtype\u001b[49m\u001b[38;5;241;43m=\u001b[39;49m\u001b[43mdtype\u001b[49m\u001b[43m,\u001b[49m\u001b[43m \u001b[49m\u001b[43mcopy\u001b[49m\u001b[38;5;241;43m=\u001b[39;49m\u001b[43mcopy\u001b[49m\u001b[43m,\u001b[49m\u001b[43m \u001b[49m\u001b[43mna_value\u001b[49m\u001b[38;5;241;43m=\u001b[39;49m\u001b[43mna_value\u001b[49m\u001b[43m)\u001b[49m\n\u001b[1;32m   1839\u001b[0m \u001b[38;5;28;01mif\u001b[39;00m result\u001b[38;5;241m.\u001b[39mdtype \u001b[38;5;129;01mis\u001b[39;00m \u001b[38;5;129;01mnot\u001b[39;00m dtype:\n\u001b[1;32m   1840\u001b[0m     result \u001b[38;5;241m=\u001b[39m np\u001b[38;5;241m.\u001b[39marray(result, dtype\u001b[38;5;241m=\u001b[39mdtype, copy\u001b[38;5;241m=\u001b[39m\u001b[38;5;28;01mFalse\u001b[39;00m)\n",
      "File \u001b[0;32m~/Documents/Software Development/10_Academy Training/week3/car-insurance-risk-and-predictive-analytics/venv-car-insurance/lib/python3.8/site-packages/pandas/core/internals/managers.py:1732\u001b[0m, in \u001b[0;36mBlockManager.as_array\u001b[0;34m(self, dtype, copy, na_value)\u001b[0m\n\u001b[1;32m   1730\u001b[0m         arr\u001b[38;5;241m.\u001b[39mflags\u001b[38;5;241m.\u001b[39mwriteable \u001b[38;5;241m=\u001b[39m \u001b[38;5;28;01mFalse\u001b[39;00m\n\u001b[1;32m   1731\u001b[0m \u001b[38;5;28;01melse\u001b[39;00m:\n\u001b[0;32m-> 1732\u001b[0m     arr \u001b[38;5;241m=\u001b[39m \u001b[38;5;28;43mself\u001b[39;49m\u001b[38;5;241;43m.\u001b[39;49m\u001b[43m_interleave\u001b[49m\u001b[43m(\u001b[49m\u001b[43mdtype\u001b[49m\u001b[38;5;241;43m=\u001b[39;49m\u001b[43mdtype\u001b[49m\u001b[43m,\u001b[49m\u001b[43m \u001b[49m\u001b[43mna_value\u001b[49m\u001b[38;5;241;43m=\u001b[39;49m\u001b[43mna_value\u001b[49m\u001b[43m)\u001b[49m\n\u001b[1;32m   1733\u001b[0m     \u001b[38;5;66;03m# The underlying data was copied within _interleave, so no need\u001b[39;00m\n\u001b[1;32m   1734\u001b[0m     \u001b[38;5;66;03m# to further copy if copy=True or setting na_value\u001b[39;00m\n\u001b[1;32m   1736\u001b[0m \u001b[38;5;28;01mif\u001b[39;00m na_value \u001b[38;5;129;01mis\u001b[39;00m \u001b[38;5;129;01mnot\u001b[39;00m lib\u001b[38;5;241m.\u001b[39mno_default:\n",
      "File \u001b[0;32m~/Documents/Software Development/10_Academy Training/week3/car-insurance-risk-and-predictive-analytics/venv-car-insurance/lib/python3.8/site-packages/pandas/core/internals/managers.py:1794\u001b[0m, in \u001b[0;36mBlockManager._interleave\u001b[0;34m(self, dtype, na_value)\u001b[0m\n\u001b[1;32m   1792\u001b[0m     \u001b[38;5;28;01melse\u001b[39;00m:\n\u001b[1;32m   1793\u001b[0m         arr \u001b[38;5;241m=\u001b[39m blk\u001b[38;5;241m.\u001b[39mget_values(dtype)\n\u001b[0;32m-> 1794\u001b[0m     \u001b[43mresult\u001b[49m\u001b[43m[\u001b[49m\u001b[43mrl\u001b[49m\u001b[38;5;241;43m.\u001b[39;49m\u001b[43mindexer\u001b[49m\u001b[43m]\u001b[49m \u001b[38;5;241m=\u001b[39m arr\n\u001b[1;32m   1795\u001b[0m     itemmask[rl\u001b[38;5;241m.\u001b[39mindexer] \u001b[38;5;241m=\u001b[39m \u001b[38;5;241m1\u001b[39m\n\u001b[1;32m   1797\u001b[0m \u001b[38;5;28;01mif\u001b[39;00m \u001b[38;5;129;01mnot\u001b[39;00m itemmask\u001b[38;5;241m.\u001b[39mall():\n",
      "\u001b[0;31mValueError\u001b[0m: could not convert string to float: '2015-03-01 00:00:00'"
     ]
    }
   ],
   "source": [
    "eda_analysis.bivariate_analysis()"
   ]
  },
  {
   "cell_type": "code",
   "execution_count": 17,
   "id": "206b2899-c900-4b23-b6e7-064c3a0ea490",
   "metadata": {},
   "outputs": [
    {
     "name": "stdout",
     "output_type": "stream",
     "text": [
      "<class 'pandas.core.series.Series'>\n",
      "RangeIndex: 1000098 entries, 0 to 1000097\n",
      "Series name: PostalCode\n",
      "Non-Null Count    Dtype\n",
      "--------------    -----\n",
      "1000098 non-null  int64\n",
      "dtypes: int64(1)\n",
      "memory usage: 7.6 MB\n"
     ]
    }
   ],
   "source": [
    "df['PostalCode'].info()"
   ]
  },
  {
   "cell_type": "code",
   "execution_count": null,
   "id": "68208324-5648-4b0f-9517-9919926e4bb5",
   "metadata": {},
   "outputs": [],
   "source": []
  }
 ],
 "metadata": {
  "kernelspec": {
   "display_name": "Python 3 (ipykernel)",
   "language": "python",
   "name": "python3"
  },
  "language_info": {
   "codemirror_mode": {
    "name": "ipython",
    "version": 3
   },
   "file_extension": ".py",
   "mimetype": "text/x-python",
   "name": "python",
   "nbconvert_exporter": "python",
   "pygments_lexer": "ipython3",
   "version": "3.8.10"
  }
 },
 "nbformat": 4,
 "nbformat_minor": 5
}
