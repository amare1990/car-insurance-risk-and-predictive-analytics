{
    "cells": [
        {
            "cell_type": "code",
            "execution_count": 1,
            "id": "5a836bb1-a58e-4fa6-ba56-fad7fc74230d",
            "metadata": {},
            "outputs": [],
            "source": [
                "import os, sys\n",
                "\n",
                "curr_dir = os.getcwd()\n",
                "parent_dir = os.path.dirname(curr_dir)\n",
                "sys.path.insert(0, parent_dir)"
            ]
        },
        {
            "cell_type": "code",
            "execution_count": 2,
            "id": "d3505d9d-ee20-4bd2-99d6-c48a7f74206f",
            "metadata": {},
            "outputs": [
                {
                    "data": {
                        "text/plain": [
                            "'/home/am/Documents/Software Development/10_Academy Training/week3/car-insurance-risk-and-predictive-analytics'"
                        ]
                    },
                    "execution_count": 2,
                    "metadata": {},
                    "output_type": "execute_result"
                }
            ],
            "source": [
                "parent_dir"
            ]
        },
        {
            "cell_type": "code",
            "execution_count": 3,
            "id": "4721ba7a-3606-4b62-9b28-e379b166c8fb",
            "metadata": {},
            "outputs": [],
            "source": [
                "from scripts.get_data import get_data"
            ]
        },
        {
            "cell_type": "code",
            "execution_count": 4,
            "id": "0014922e-06a1-485a-a33a-e37de60fad7e",
            "metadata": {},
            "outputs": [],
            "source": [
                "df = get_data()"
            ]
        },
        {
            "cell_type": "code",
            "execution_count": null,
            "id": "adffa432-aef2-4dee-8fa9-727348f05858",
            "metadata": {},
            "outputs": [],
            "source": [
                "df.head()"
            ]
        },
        {
            "cell_type": "code",
            "execution_count": null,
            "id": "c507776d-6370-45f4-8ed1-8483de52c44e",
            "metadata": {},
            "outputs": [],
            "source": [
                "df.shape"
            ]
        },
        {
            "cell_type": "code",
            "execution_count": 5,
            "id": "93b8eb62-01e6-409e-a310-ebd4c1e0ecab",
            "metadata": {},
            "outputs": [
                {
                    "data": {
                        "text/plain": [
                            "Index(['UnderwrittenCoverID', 'PolicyID', 'TransactionMonth',\n",
                            "       'IsVATRegistered', 'Citizenship', 'LegalType', 'Title', 'Language',\n",
                            "       'Bank', 'AccountType', 'MaritalStatus', 'Gender', 'Country', 'Province',\n",
                            "       'PostalCode', 'MainCrestaZone', 'SubCrestaZone', 'ItemType', 'mmcode',\n",
                            "       'VehicleType', 'RegistrationYear', 'make', 'Model', 'Cylinders',\n",
                            "       'cubiccapacity', 'kilowatts', 'bodytype', 'NumberOfDoors',\n",
                            "       'VehicleIntroDate', 'CustomValueEstimate', 'AlarmImmobiliser',\n",
                            "       'TrackingDevice', 'CapitalOutstanding', 'NewVehicle', 'WrittenOff',\n",
                            "       'Rebuilt', 'Converted', 'CrossBorder', 'NumberOfVehiclesInFleet',\n",
                            "       'SumInsured', 'TermFrequency', 'CalculatedPremiumPerTerm',\n",
                            "       'ExcessSelected', 'CoverCategory', 'CoverType', 'CoverGroup', 'Section',\n",
                            "       'Product', 'StatutoryClass', 'StatutoryRiskType', 'TotalPremium',\n",
                            "       'TotalClaims'],\n",
                            "      dtype='object')"
                        ]
                    },
                    "execution_count": 5,
                    "metadata": {},
                    "output_type": "execute_result"
                }
            ],
            "source": [
                "df.columns"
            ]
        },
        {
            "cell_type": "code",
            "execution_count": null,
            "id": "4ff10608-ac1d-4237-89b4-1107ea197c8b",
            "metadata": {},
            "outputs": [],
            "source": [
                "df_l = df.iloc[:, 32]"
            ]
        },
        {
            "cell_type": "code",
            "execution_count": null,
            "id": "742867bd-2113-4ef3-bb93-b79cc6c28716",
            "metadata": {},
            "outputs": [],
            "source": [
                "df_l.head()"
            ]
        },
        {
            "cell_type": "code",
            "execution_count": null,
            "id": "ce300d5a-487b-452b-8bca-bc2f78782a2f",
            "metadata": {},
            "outputs": [],
            "source": [
                "# Check the unique types in a column\n",
                "print(df[\"CapitalOutstanding\"].apply(type).unique())\n"
            ]
        },
        {
            "cell_type": "code",
            "execution_count": null,
            "id": "1a4d7e95-7276-41bb-aacd-1d1d395431a4",
            "metadata": {},
            "outputs": [],
            "source": [
                "# Check the data type of a specific column\n",
                "print(df[\"CapitalOutstanding\"].dtype)"
            ]
        },
        {
            "cell_type": "code",
            "execution_count": null,
            "id": "d54ec962-859a-4bf7-b2aa-fe5e523704ed",
            "metadata": {},
            "outputs": [],
            "source": [
                "df_37 = df.iloc[:, 37]"
            ]
        },
        {
            "cell_type": "code",
            "execution_count": null,
            "id": "7e3d7bdc-4536-48bb-a902-46cd900a9228",
            "metadata": {},
            "outputs": [],
            "source": [
                "# Check the unique types in a column\n",
                "print(df[\"CrossBorder\"].apply(type).unique())"
            ]
        },
        {
            "cell_type": "code",
            "execution_count": null,
            "id": "7c7de776-052f-4feb-8ff4-393f2d9a2694",
            "metadata": {},
            "outputs": [],
            "source": [
                "print(df[\"CapitalOutstanding\"].isnull().sum())"
            ]
        },
        {
            "cell_type": "code",
            "execution_count": null,
            "id": "69a4ae79-4436-42af-a0cf-36c488676602",
            "metadata": {},
            "outputs": [],
            "source": [
                "print(df[\"CrossBorder\"].isnull().sum())"
            ]
        },
        {
            "cell_type": "code",
            "execution_count": null,
            "id": "20ef4a50-b5e5-4f25-85f5-8ad63e628b95",
            "metadata": {},
            "outputs": [],
            "source": [
                "# Separate rows by type\n",
                "float_rows = df[df[\"CapitalOutstanding\"].apply(type) == float]\n",
                "str_rows = df[df[\"CapitalOutstanding\"].apply(type) == str]\n",
                "\n",
                "# Verify the results\n",
                "print(\"Rows with floats:\")\n",
                "print(float_rows)\n",
                "\n",
                "print(\"\\nRows with strings:\")\n",
                "print(str_rows)\n"
            ]
        },
        {
            "cell_type": "code",
            "execution_count": null,
            "id": "8b6a8930-a1b5-43e6-98d6-6061e9e8b3a3",
            "metadata": {},
            "outputs": [],
            "source": [
                "# Filter rows by type\n",
                "float_values_capital = df[df[\"CapitalOutstanding\"].apply(type) == float][\"CapitalOutstanding\"]\n",
                "str_values_capital = df[df[\"CapitalOutstanding\"].apply(type) == str][\"CapitalOutstanding\"]\n",
                "\n",
                "# Display results\n",
                "print(\"Float values:\")\n",
                "print(float_values_capital)\n",
                "\n",
                "print(\"\\nString values:\")\n",
                "print(str_values_capital)\n"
            ]
        },
        {
            "cell_type": "code",
            "execution_count": null,
            "id": "99f13cfd-b4af-4389-8b38-46e98339eae8",
            "metadata": {},
            "outputs": [],
            "source": [
                "float_values_capital"
            ]
        },
        {
            "cell_type": "code",
            "execution_count": null,
            "id": "272abec9-4512-4820-92e7-7b5be2b2586f",
            "metadata": {},
            "outputs": [],
            "source": [
                "str_values_capital"
            ]
        },
        {
            "cell_type": "code",
            "execution_count": null,
            "id": "3851c5bf-7e3d-458c-9db8-faf9290753f9",
            "metadata": {},
            "outputs": [],
            "source": [
                "df.loc[47762, \"CapitalOutstanding\"]"
            ]
        },
        {
            "cell_type": "code",
            "execution_count": null,
            "id": "90409b47-8312-43fc-b414-f2efd65f1bd3",
            "metadata": {
                "scrolled": true
            },
            "outputs": [],
            "source": [
                "# Filter rows by type\n",
                "float_value_cross = df[df[\"CrossBorder\"].apply(type) == float][\"CrossBorder\"]\n",
                "str_values_cross = df[df[\"CrossBorder\"].apply(type) == str][\"CrossBorder\"]\n",
                "\n",
                "# Display results\n",
                "print(\"Float values:\")\n",
                "print(float_values)_cross\n",
                "\n",
                "print(\"\\nString values:\")\n",
                "print(str_values_cross)\n"
            ]
        },
        {
            "cell_type": "code",
            "execution_count": null,
            "id": "9d1c1541-a8ff-4e93-b4ac-bf6f4f0a20bc",
            "metadata": {},
            "outputs": [],
            "source": [
                "str_value_cross .value_counts()"
            ]
        },
        {
            "cell_type": "code",
            "execution_count": null,
            "id": "01daf579-b462-4286-afe7-2ea0c89914af",
            "metadata": {},
            "outputs": [],
            "source": [
                "float_value_cross .isnull().sum()"
            ]
        },
        {
            "cell_type": "code",
            "execution_count": null,
            "id": "a9354111-35c9-4228-9b2c-f2ca66016f95",
            "metadata": {},
            "outputs": [],
            "source": []
        }
    ],
    "metadata": {
        "kernelspec": {
            "display_name": "Python 3 (ipykernel)",
            "language": "python",
            "name": "python3"
        },
        "language_info": {
            "codemirror_mode": {
                "name": "ipython",
                "version": 3
            },
            "file_extension": ".py",
            "mimetype": "text/x-python",
            "name": "python",
            "nbconvert_exporter": "python",
            "pygments_lexer": "ipython3",
            "version": "3.8.10"
        }
    },
    "nbformat": 4,
    "nbformat_minor": 5
}
